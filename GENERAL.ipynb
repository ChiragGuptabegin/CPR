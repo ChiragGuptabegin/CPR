{
 "cells": [
  {
   "cell_type": "code",
   "execution_count": 86,
   "metadata": {},
   "outputs": [],
   "source": [
    "import pandas as pd\n",
    "import numpy as np\n",
    "%matplotlib inline\n",
    "import pmdarima as pm\n",
    "\n",
    "# Load specific forecasting tools\n",
    "from statsmodels.tsa.statespace.sarimax import SARIMAX\n",
    "\n",
    "from statsmodels.graphics.tsaplots import plot_acf,plot_pacf # for determining (p,q) orders\n",
    "from statsmodels.tsa.seasonal import seasonal_decompose      # for ETS Plots\n",
    "from pmdarima import auto_arima                              # for determining ARIMA orders\n",
    "\n",
    "# Ignore harmless warnings\n",
    "import warnings\n",
    "warnings.filterwarnings(\"ignore\")\n",
    "\n",
    "# Load dataset\n",
    "df= pd.read_csv(r\"C:\\Users\\Chirag\\test3.csv\")\n"
   ]
  },
  {
   "cell_type": "code",
   "execution_count": 87,
   "metadata": {},
   "outputs": [
    {
     "data": {
      "text/html": [
       "<div>\n",
       "<style scoped>\n",
       "    .dataframe tbody tr th:only-of-type {\n",
       "        vertical-align: middle;\n",
       "    }\n",
       "\n",
       "    .dataframe tbody tr th {\n",
       "        vertical-align: top;\n",
       "    }\n",
       "\n",
       "    .dataframe thead th {\n",
       "        text-align: right;\n",
       "    }\n",
       "</style>\n",
       "<table border=\"1\" class=\"dataframe\">\n",
       "  <thead>\n",
       "    <tr style=\"text-align: right;\">\n",
       "      <th></th>\n",
       "      <th>CPRAVG</th>\n",
       "      <th>PROP</th>\n",
       "      <th>BUT</th>\n",
       "      <th>FLW</th>\n",
       "      <th>COT</th>\n",
       "      <th>TEMP</th>\n",
       "      <th>PRESS</th>\n",
       "      <th>DRAFT</th>\n",
       "      <th>ETH</th>\n",
       "    </tr>\n",
       "    <tr>\n",
       "      <th>Date Time</th>\n",
       "      <th></th>\n",
       "      <th></th>\n",
       "      <th></th>\n",
       "      <th></th>\n",
       "      <th></th>\n",
       "      <th></th>\n",
       "      <th></th>\n",
       "      <th></th>\n",
       "      <th></th>\n",
       "    </tr>\n",
       "  </thead>\n",
       "  <tbody>\n",
       "    <tr>\n",
       "      <th>2009-01-01 00:10:00</th>\n",
       "      <td>0.428151</td>\n",
       "      <td>18.960609</td>\n",
       "      <td>3.973630</td>\n",
       "      <td>30711.65039</td>\n",
       "      <td>820.118210</td>\n",
       "      <td>632.399261</td>\n",
       "      <td>0.466357</td>\n",
       "      <td>-5.616851</td>\n",
       "      <td>75.809700</td>\n",
       "    </tr>\n",
       "    <tr>\n",
       "      <th>2009-01-01 00:20:00</th>\n",
       "      <td>0.427783</td>\n",
       "      <td>18.960360</td>\n",
       "      <td>3.973562</td>\n",
       "      <td>30700.66016</td>\n",
       "      <td>819.662811</td>\n",
       "      <td>633.057602</td>\n",
       "      <td>0.475288</td>\n",
       "      <td>-5.540349</td>\n",
       "      <td>75.810066</td>\n",
       "    </tr>\n",
       "    <tr>\n",
       "      <th>2009-01-01 00:30:00</th>\n",
       "      <td>0.427432</td>\n",
       "      <td>19.009649</td>\n",
       "      <td>4.181924</td>\n",
       "      <td>30689.66016</td>\n",
       "      <td>819.886444</td>\n",
       "      <td>631.841385</td>\n",
       "      <td>0.464559</td>\n",
       "      <td>-5.628389</td>\n",
       "      <td>75.552841</td>\n",
       "    </tr>\n",
       "    <tr>\n",
       "      <th>2009-01-01 00:40:00</th>\n",
       "      <td>0.427082</td>\n",
       "      <td>19.155710</td>\n",
       "      <td>3.950392</td>\n",
       "      <td>30678.66016</td>\n",
       "      <td>819.660171</td>\n",
       "      <td>632.495224</td>\n",
       "      <td>0.471809</td>\n",
       "      <td>-5.576591</td>\n",
       "      <td>75.580223</td>\n",
       "    </tr>\n",
       "    <tr>\n",
       "      <th>2009-01-01 00:50:00</th>\n",
       "      <td>0.426732</td>\n",
       "      <td>19.334640</td>\n",
       "      <td>3.689848</td>\n",
       "      <td>30667.66016</td>\n",
       "      <td>819.646805</td>\n",
       "      <td>632.388214</td>\n",
       "      <td>0.470504</td>\n",
       "      <td>-5.274679</td>\n",
       "      <td>75.638023</td>\n",
       "    </tr>\n",
       "  </tbody>\n",
       "</table>\n",
       "</div>"
      ],
      "text/plain": [
       "                       CPRAVG       PROP       BUT          FLW         COT  \\\n",
       "Date Time                                                                     \n",
       "2009-01-01 00:10:00  0.428151  18.960609  3.973630  30711.65039  820.118210   \n",
       "2009-01-01 00:20:00  0.427783  18.960360  3.973562  30700.66016  819.662811   \n",
       "2009-01-01 00:30:00  0.427432  19.009649  4.181924  30689.66016  819.886444   \n",
       "2009-01-01 00:40:00  0.427082  19.155710  3.950392  30678.66016  819.660171   \n",
       "2009-01-01 00:50:00  0.426732  19.334640  3.689848  30667.66016  819.646805   \n",
       "\n",
       "                           TEMP     PRESS     DRAFT        ETH  \n",
       "Date Time                                                       \n",
       "2009-01-01 00:10:00  632.399261  0.466357 -5.616851  75.809700  \n",
       "2009-01-01 00:20:00  633.057602  0.475288 -5.540349  75.810066  \n",
       "2009-01-01 00:30:00  631.841385  0.464559 -5.628389  75.552841  \n",
       "2009-01-01 00:40:00  632.495224  0.471809 -5.576591  75.580223  \n",
       "2009-01-01 00:50:00  632.388214  0.470504 -5.274679  75.638023  "
      ]
     },
     "execution_count": 87,
     "metadata": {},
     "output_type": "execute_result"
    }
   ],
   "source": [
    "#Making Date Time our index\n",
    "date_time = pd.to_datetime(df.pop('Date Time'), format='%d.%m.%Y %H:%M:%S')\n",
    "df.index = date_time\n",
    "df.head()\n"
   ]
  },
  {
   "cell_type": "code",
   "execution_count": 88,
   "metadata": {},
   "outputs": [
    {
     "name": "stdout",
     "output_type": "stream",
     "text": [
      "<class 'pandas.core.frame.DataFrame'>\n",
      "DatetimeIndex: 12468 entries, 2009-01-01 00:10:00 to 2009-03-28 14:00:00\n",
      "Data columns (total 9 columns):\n",
      " #   Column  Non-Null Count  Dtype  \n",
      "---  ------  --------------  -----  \n",
      " 0   CPRAVG  12468 non-null  float64\n",
      " 1   PROP    12468 non-null  float64\n",
      " 2   BUT     12468 non-null  float64\n",
      " 3   FLW     12468 non-null  float64\n",
      " 4   COT     12468 non-null  float64\n",
      " 5   TEMP    12468 non-null  float64\n",
      " 6   PRESS   12468 non-null  float64\n",
      " 7   DRAFT   12468 non-null  float64\n",
      " 8   ETH     12468 non-null  float64\n",
      "dtypes: float64(9)\n",
      "memory usage: 974.1 KB\n"
     ]
    }
   ],
   "source": [
    "df.info()"
   ]
  },
  {
   "cell_type": "code",
   "execution_count": 89,
   "metadata": {},
   "outputs": [
    {
     "data": {
      "text/plain": [
       "[<matplotlib.lines.Line2D at 0x2d6efde19a0>]"
      ]
     },
     "execution_count": 89,
     "metadata": {},
     "output_type": "execute_result"
    },
    {
     "data": {
      "image/png": "[encoded data removed]",
      "text/plain": [
       "<Figure size 432x288 with 1 Axes>"
      ]
     },
     "metadata": {
      "needs_background": "light"
     },
     "output_type": "display_data"
    }
   ],
   "source": [
    "#Plotting the CPRAVG data\n",
    "\n",
    "import matplotlib.pyplot as plt\n",
    "plt.title('Average CPR values with time')\n",
    "plt.xlabel('Date')\n",
    "plt.ylabel('Avg. CPR')\n",
    "plt.plot(df['CPRAVG'],color = 'blue')"
   ]
  },
  {
   "cell_type": "code",
   "execution_count": 66,
   "metadata": {},
   "outputs": [
    {
     "name": "stdout",
     "output_type": "stream",
     "text": [
      "['CPRAVG', 'PROP', 'BUT', 'FLW', 'COT', 'TEMP', 'PRESS', 'DRAFT', 'ETH']\n"
     ]
    }
   ],
   "source": [
    "#Printing list of columns:\n",
    "cols = list(df)[0:df.shape[1]]\n",
    "print(cols)"
   ]
  },
  {
   "cell_type": "code",
   "execution_count": 67,
   "metadata": {},
   "outputs": [],
   "source": [
    "from statsmodels.tsa.stattools import adfuller\n",
    "\n",
    "def adf_test(series,title=''):\n",
    "    \"\"\"\n",
    "    Pass in a time series and an optional title, returns an ADF report\n",
    "    \"\"\"\n",
    "    print(f'Augmented Dickey-Fuller Test: {title}')\n",
    "    result = adfuller(series.dropna(),autolag='AIC') # .dropna() handles differenced data\n",
    "    \n",
    "    labels = ['ADF test statistic','p-value','# lags used','# observations']\n",
    "    out = pd.Series(result[0:4],index=labels)\n",
    "\n",
    "    for key,val in result[4].items():\n",
    "        out[f'critical value ({key})']=val\n",
    "        \n",
    "    print(out.to_string())          # .to_string() removes the line \"dtype: float64\"\n",
    "    \n",
    "    if result[1] <= 0.05:\n",
    "        print(\"Strong evidence against the null hypothesis\")\n",
    "        print(\"Reject the null hypothesis\")\n",
    "        print(\"Data has no unit root and is stationary\")\n",
    "    else:\n",
    "        print(\"Weak evidence against the null hypothesis\")\n",
    "        print(\"Fail to reject the null hypothesis\")\n",
    "        print(\"Data has a unit root and is non-stationary\")"
   ]
  },
  {
   "cell_type": "code",
   "execution_count": 68,
   "metadata": {},
   "outputs": [
    {
     "name": "stdout",
     "output_type": "stream",
     "text": [
      "Augmented Dickey-Fuller Test: \n",
      "ADF test statistic         -3.844039\n",
      "p-value                     0.002488\n",
      "# lags used                 8.000000\n",
      "# observations          12459.000000\n",
      "critical value (1%)        -3.430875\n",
      "critical value (5%)        -2.861772\n",
      "critical value (10%)       -2.566893\n",
      "Strong evidence against the null hypothesis\n",
      "Reject the null hypothesis\n",
      "Data has no unit root and is stationary\n"
     ]
    }
   ],
   "source": [
    "adf_test(df['CPRAVG'])"
   ]
  },
  {
   "cell_type": "code",
   "execution_count": 91,
   "metadata": {},
   "outputs": [
    {
     "data": {
      "text/html": [
       "<table class=\"simpletable\">\n",
       "<caption>SARIMAX Results</caption>\n",
       "<tr>\n",
       "  <th>Dep. Variable:</th>           <td>y</td>        <th>  No. Observations:  </th>    <td>12468</td>   \n",
       "</tr>\n",
       "<tr>\n",
       "  <th>Model:</th>           <td>SARIMAX(1, 1, 1)</td> <th>  Log Likelihood     </th>  <td>82899.051</td> \n",
       "</tr>\n",
       "<tr>\n",
       "  <th>Date:</th>            <td>Wed, 04 Aug 2021</td> <th>  AIC                </th> <td>-165790.102</td>\n",
       "</tr>\n",
       "<tr>\n",
       "  <th>Time:</th>                <td>20:33:55</td>     <th>  BIC                </th> <td>-165760.378</td>\n",
       "</tr>\n",
       "<tr>\n",
       "  <th>Sample:</th>                  <td>0</td>        <th>  HQIC               </th> <td>-165780.150</td>\n",
       "</tr>\n",
       "<tr>\n",
       "  <th></th>                     <td> - 12468</td>     <th>                     </th>      <td> </td>     \n",
       "</tr>\n",
       "<tr>\n",
       "  <th>Covariance Type:</th>        <td>opg</td>       <th>                     </th>      <td> </td>     \n",
       "</tr>\n",
       "</table>\n",
       "<table class=\"simpletable\">\n",
       "<tr>\n",
       "      <td></td>         <th>coef</th>     <th>std err</th>      <th>z</th>      <th>P>|z|</th>  <th>[0.025</th>    <th>0.975]</th>  \n",
       "</tr>\n",
       "<tr>\n",
       "  <th>intercept</th> <td>   5.6e-06</td> <td>  3.4e-06</td> <td>    1.646</td> <td> 0.100</td> <td>-1.07e-06</td> <td> 1.23e-05</td>\n",
       "</tr>\n",
       "<tr>\n",
       "  <th>ar.L1</th>     <td>    0.0510</td> <td>    0.001</td> <td>   37.715</td> <td> 0.000</td> <td>    0.048</td> <td>    0.054</td>\n",
       "</tr>\n",
       "<tr>\n",
       "  <th>ma.L1</th>     <td>    0.2013</td> <td>    0.001</td> <td>  152.867</td> <td> 0.000</td> <td>    0.199</td> <td>    0.204</td>\n",
       "</tr>\n",
       "<tr>\n",
       "  <th>sigma2</th>    <td> 9.814e-08</td> <td>  2.6e-10</td> <td>  377.398</td> <td> 0.000</td> <td> 9.76e-08</td> <td> 9.86e-08</td>\n",
       "</tr>\n",
       "</table>\n",
       "<table class=\"simpletable\">\n",
       "<tr>\n",
       "  <th>Ljung-Box (L1) (Q):</th>     <td>0.00</td> <th>  Jarque-Bera (JB):  </th> <td>1619426.59</td>\n",
       "</tr>\n",
       "<tr>\n",
       "  <th>Prob(Q):</th>                <td>0.99</td> <th>  Prob(JB):          </th>    <td>0.00</td>   \n",
       "</tr>\n",
       "<tr>\n",
       "  <th>Heteroskedasticity (H):</th> <td>0.25</td> <th>  Skew:              </th>    <td>-0.83</td>  \n",
       "</tr>\n",
       "<tr>\n",
       "  <th>Prob(H) (two-sided):</th>    <td>0.00</td> <th>  Kurtosis:          </th>    <td>58.81</td>  \n",
       "</tr>\n",
       "</table><br/><br/>Warnings:<br/>[1] Covariance matrix calculated using the outer product of gradients (complex-step).<br/>[2] Covariance matrix is singular or near-singular, with condition number 4.35e+16. Standard errors may be unstable."
      ],
      "text/plain": [
       "<class 'statsmodels.iolib.summary.Summary'>\n",
       "\"\"\"\n",
       "                               SARIMAX Results                                \n",
       "==============================================================================\n",
       "Dep. Variable:                      y   No. Observations:                12468\n",
       "Model:               SARIMAX(1, 1, 1)   Log Likelihood               82899.051\n",
       "Date:                Wed, 04 Aug 2021   AIC                        -165790.102\n",
       "Time:                        20:33:55   BIC                        -165760.378\n",
       "Sample:                             0   HQIC                       -165780.150\n",
       "                              - 12468                                         \n",
       "Covariance Type:                  opg                                         \n",
       "==============================================================================\n",
       "                 coef    std err          z      P>|z|      [0.025      0.975]\n",
       "------------------------------------------------------------------------------\n",
       "intercept     5.6e-06    3.4e-06      1.646      0.100   -1.07e-06    1.23e-05\n",
       "ar.L1          0.0510      0.001     37.715      0.000       0.048       0.054\n",
       "ma.L1          0.2013      0.001    152.867      0.000       0.199       0.204\n",
       "sigma2      9.814e-08    2.6e-10    377.398      0.000    9.76e-08    9.86e-08\n",
       "===================================================================================\n",
       "Ljung-Box (L1) (Q):                   0.00   Jarque-Bera (JB):           1619426.59\n",
       "Prob(Q):                              0.99   Prob(JB):                         0.00\n",
       "Heteroskedasticity (H):               0.25   Skew:                            -0.83\n",
       "Prob(H) (two-sided):                  0.00   Kurtosis:                        58.81\n",
       "===================================================================================\n",
       "\n",
       "Warnings:\n",
       "[1] Covariance matrix calculated using the outer product of gradients (complex-step).\n",
       "[2] Covariance matrix is singular or near-singular, with condition number 4.35e+16. Standard errors may be unstable.\n",
       "\"\"\""
      ]
     },
     "execution_count": 91,
     "metadata": {},
     "output_type": "execute_result"
    }
   ],
   "source": [
    "auto_arima(df['CPRAVG'],max_p=10,max_d=10,max_q=10,seasonal=False,m=1).summary()"
   ]
  },
  {
   "cell_type": "code",
   "execution_count": 70,
   "metadata": {},
   "outputs": [
    {
     "data": {
      "text/plain": [
       "12468"
      ]
     },
     "execution_count": 70,
     "metadata": {},
     "output_type": "execute_result"
    }
   ],
   "source": [
    "len(df)"
   ]
  },
  {
   "cell_type": "code",
   "execution_count": 92,
   "metadata": {},
   "outputs": [
    {
     "name": "stdout",
     "output_type": "stream",
     "text": [
      "                       CPRAVG       PROP       BUT          FLW         COT  \\\n",
      "Date Time                                                                     \n",
      "2009-03-27 17:20:00  0.517393  22.681259  3.755996  28690.06055  853.198364   \n",
      "2009-03-27 17:30:00  0.517707  23.238979  4.043783  28688.57031  853.346619   \n",
      "2009-03-27 17:40:00  0.518145  23.874350  4.143183  28687.08984  853.178970   \n",
      "2009-03-27 17:50:00  0.517609  23.826420  4.226301  28685.59961  853.339218   \n",
      "2009-03-27 18:00:00  0.517287  23.716391  4.229255  28684.10938  853.260345   \n",
      "...                       ...        ...       ...          ...         ...   \n",
      "2009-03-28 13:20:00  0.516947  22.566521  4.234831  28546.11914  853.335480   \n",
      "2009-03-28 13:30:00  0.516790  23.644880  4.081517  28570.01953  853.114197   \n",
      "2009-03-28 13:40:00  0.516591  23.736650  4.371761  28593.91992  853.182159   \n",
      "2009-03-28 13:50:00  0.516339  23.319229  4.153561  28617.82031  853.211716   \n",
      "2009-03-28 14:00:00  0.515635  22.664320  4.087688  28641.72070  852.540192   \n",
      "\n",
      "                           TEMP     PRESS     DRAFT        ETH  \n",
      "Date Time                                                       \n",
      "2009-03-27 17:20:00  652.623321  0.489435 -4.971442  72.353531  \n",
      "2009-03-27 17:30:00  651.414795  0.482633 -4.973807  71.477318  \n",
      "2009-03-27 17:40:00  651.498764  0.484978 -4.978350  70.711807  \n",
      "2009-03-27 17:50:00  651.752533  0.489222 -4.962811  70.639069  \n",
      "2009-03-27 18:00:00  651.696167  0.487259 -4.953090  70.705116  \n",
      "...                         ...       ...       ...        ...  \n",
      "2009-03-28 13:20:00  653.310226  0.490392 -4.964487  72.158081  \n",
      "2009-03-28 13:30:00  652.723724  0.485867 -4.957215  71.223877  \n",
      "2009-03-28 13:40:00  653.046051  0.486376 -4.961114  70.807220  \n",
      "2009-03-28 13:50:00  653.374191  0.489971 -4.955902  71.450020  \n",
      "2009-03-28 14:00:00  653.383255  0.492127 -4.967060  72.160553  \n",
      "\n",
      "[125 rows x 9 columns]\n"
     ]
    }
   ],
   "source": [
    "#Splitting the data:\n",
    "split_length = 0.99\n",
    "train_df = df[0:int(split_length*df.shape[0])]\n",
    "val_df = df[int(split_length*df.shape[0]):df.shape[0]]\n",
    "print(val_df)"
   ]
  },
  {
   "cell_type": "code",
   "execution_count": 93,
   "metadata": {},
   "outputs": [
    {
     "data": {
      "text/html": [
       "<table class=\"simpletable\">\n",
       "<caption>SARIMAX Results</caption>\n",
       "<tr>\n",
       "  <th>Dep. Variable:</th>        <td>CPRAVG</td>      <th>  No. Observations:  </th>    <td>12343</td>   \n",
       "</tr>\n",
       "<tr>\n",
       "  <th>Model:</th>           <td>SARIMAX(1, 1, 1)</td> <th>  Log Likelihood     </th>  <td>82918.045</td> \n",
       "</tr>\n",
       "<tr>\n",
       "  <th>Date:</th>            <td>Wed, 04 Aug 2021</td> <th>  AIC                </th> <td>-165814.091</td>\n",
       "</tr>\n",
       "<tr>\n",
       "  <th>Time:</th>                <td>20:36:13</td>     <th>  BIC                </th> <td>-165732.462</td>\n",
       "</tr>\n",
       "<tr>\n",
       "  <th>Sample:</th>             <td>01-01-2009</td>    <th>  HQIC               </th> <td>-165786.746</td>\n",
       "</tr>\n",
       "<tr>\n",
       "  <th></th>                   <td>- 03-27-2009</td>   <th>                     </th>      <td> </td>     \n",
       "</tr>\n",
       "<tr>\n",
       "  <th>Covariance Type:</th>        <td>opg</td>       <th>                     </th>      <td> </td>     \n",
       "</tr>\n",
       "</table>\n",
       "<table class=\"simpletable\">\n",
       "<tr>\n",
       "     <td></td>       <th>coef</th>     <th>std err</th>      <th>z</th>      <th>P>|z|</th>  <th>[0.025</th>    <th>0.975]</th>  \n",
       "</tr>\n",
       "<tr>\n",
       "  <th>PROP</th>   <td> 2.724e-05</td> <td> 1.16e-05</td> <td>    2.345</td> <td> 0.019</td> <td> 4.47e-06</td> <td>    5e-05</td>\n",
       "</tr>\n",
       "<tr>\n",
       "  <th>BUT</th>    <td>-2.379e-05</td> <td> 1.35e-05</td> <td>   -1.765</td> <td> 0.078</td> <td>-5.02e-05</td> <td> 2.63e-06</td>\n",
       "</tr>\n",
       "<tr>\n",
       "  <th>FLW</th>    <td> -2.62e-06</td> <td> 1.44e-08</td> <td> -181.356</td> <td> 0.000</td> <td>-2.65e-06</td> <td>-2.59e-06</td>\n",
       "</tr>\n",
       "<tr>\n",
       "  <th>COT</th>    <td>-6.861e-06</td> <td> 3.73e-06</td> <td>   -1.841</td> <td> 0.066</td> <td>-1.42e-05</td> <td> 4.43e-07</td>\n",
       "</tr>\n",
       "<tr>\n",
       "  <th>TEMP</th>   <td> 1.082e-05</td> <td> 2.95e-06</td> <td>    3.663</td> <td> 0.000</td> <td> 5.03e-06</td> <td> 1.66e-05</td>\n",
       "</tr>\n",
       "<tr>\n",
       "  <th>PRESS</th>  <td>    0.0086</td> <td>    0.000</td> <td>   28.528</td> <td> 0.000</td> <td>    0.008</td> <td>    0.009</td>\n",
       "</tr>\n",
       "<tr>\n",
       "  <th>DRAFT</th>  <td>  2.41e-05</td> <td> 8.16e-05</td> <td>    0.295</td> <td> 0.768</td> <td>   -0.000</td> <td>    0.000</td>\n",
       "</tr>\n",
       "<tr>\n",
       "  <th>ETH</th>    <td>-1.218e-05</td> <td> 9.37e-06</td> <td>   -1.300</td> <td> 0.194</td> <td>-3.05e-05</td> <td> 6.18e-06</td>\n",
       "</tr>\n",
       "<tr>\n",
       "  <th>ar.L1</th>  <td>   -0.1564</td> <td>    0.002</td> <td>  -76.840</td> <td> 0.000</td> <td>   -0.160</td> <td>   -0.152</td>\n",
       "</tr>\n",
       "<tr>\n",
       "  <th>ma.L1</th>  <td>    0.2890</td> <td>    0.002</td> <td>  141.874</td> <td> 0.000</td> <td>    0.285</td> <td>    0.293</td>\n",
       "</tr>\n",
       "<tr>\n",
       "  <th>sigma2</th> <td> 8.575e-08</td> <td>  4.1e-10</td> <td>  209.184</td> <td> 0.000</td> <td> 8.49e-08</td> <td> 8.66e-08</td>\n",
       "</tr>\n",
       "</table>\n",
       "<table class=\"simpletable\">\n",
       "<tr>\n",
       "  <th>Ljung-Box (L1) (Q):</th>     <td>0.21</td> <th>  Jarque-Bera (JB):  </th> <td>199453.23</td>\n",
       "</tr>\n",
       "<tr>\n",
       "  <th>Prob(Q):</th>                <td>0.65</td> <th>  Prob(JB):          </th>   <td>0.00</td>   \n",
       "</tr>\n",
       "<tr>\n",
       "  <th>Heteroskedasticity (H):</th> <td>0.30</td> <th>  Skew:              </th>   <td>-0.59</td>  \n",
       "</tr>\n",
       "<tr>\n",
       "  <th>Prob(H) (two-sided):</th>    <td>0.00</td> <th>  Kurtosis:          </th>   <td>22.66</td>  \n",
       "</tr>\n",
       "</table><br/><br/>Warnings:<br/>[1] Covariance matrix calculated using the outer product of gradients (complex-step).<br/>[2] Covariance matrix is singular or near-singular, with condition number 4.92e+16. Standard errors may be unstable."
      ],
      "text/plain": [
       "<class 'statsmodels.iolib.summary.Summary'>\n",
       "\"\"\"\n",
       "                               SARIMAX Results                                \n",
       "==============================================================================\n",
       "Dep. Variable:                 CPRAVG   No. Observations:                12343\n",
       "Model:               SARIMAX(1, 1, 1)   Log Likelihood               82918.045\n",
       "Date:                Wed, 04 Aug 2021   AIC                        -165814.091\n",
       "Time:                        20:36:13   BIC                        -165732.462\n",
       "Sample:                    01-01-2009   HQIC                       -165786.746\n",
       "                         - 03-27-2009                                         \n",
       "Covariance Type:                  opg                                         \n",
       "==============================================================================\n",
       "                 coef    std err          z      P>|z|      [0.025      0.975]\n",
       "------------------------------------------------------------------------------\n",
       "PROP        2.724e-05   1.16e-05      2.345      0.019    4.47e-06       5e-05\n",
       "BUT        -2.379e-05   1.35e-05     -1.765      0.078   -5.02e-05    2.63e-06\n",
       "FLW         -2.62e-06   1.44e-08   -181.356      0.000   -2.65e-06   -2.59e-06\n",
       "COT        -6.861e-06   3.73e-06     -1.841      0.066   -1.42e-05    4.43e-07\n",
       "TEMP        1.082e-05   2.95e-06      3.663      0.000    5.03e-06    1.66e-05\n",
       "PRESS          0.0086      0.000     28.528      0.000       0.008       0.009\n",
       "DRAFT        2.41e-05   8.16e-05      0.295      0.768      -0.000       0.000\n",
       "ETH        -1.218e-05   9.37e-06     -1.300      0.194   -3.05e-05    6.18e-06\n",
       "ar.L1         -0.1564      0.002    -76.840      0.000      -0.160      -0.152\n",
       "ma.L1          0.2890      0.002    141.874      0.000       0.285       0.293\n",
       "sigma2      8.575e-08    4.1e-10    209.184      0.000    8.49e-08    8.66e-08\n",
       "===================================================================================\n",
       "Ljung-Box (L1) (Q):                   0.21   Jarque-Bera (JB):            199453.23\n",
       "Prob(Q):                              0.65   Prob(JB):                         0.00\n",
       "Heteroskedasticity (H):               0.30   Skew:                            -0.59\n",
       "Prob(H) (two-sided):                  0.00   Kurtosis:                        22.66\n",
       "===================================================================================\n",
       "\n",
       "Warnings:\n",
       "[1] Covariance matrix calculated using the outer product of gradients (complex-step).\n",
       "[2] Covariance matrix is singular or near-singular, with condition number 4.92e+16. Standard errors may be unstable.\n",
       "\"\"\""
      ]
     },
     "execution_count": 93,
     "metadata": {},
     "output_type": "execute_result"
    }
   ],
   "source": [
    "model = SARIMAX(train_df['CPRAVG'],exog = train_df[['PROP', 'BUT', 'FLW', 'COT', 'TEMP', 'PRESS', 'DRAFT', 'ETH']],order=(1,1,1),enforce_invertibility=False)\n",
    "results = model.fit()\n",
    "results.summary()"
   ]
  },
  {
   "cell_type": "code",
   "execution_count": 94,
   "metadata": {},
   "outputs": [],
   "source": [
    "start=len(train_df)\n",
    "end=df.shape[0]-1\n",
    "exog_forecast= val_df[['PROP', 'BUT', 'FLW', 'COT', 'TEMP', 'PRESS', 'DRAFT', 'ETH']] \n",
    "predictions = results.predict(start=start, end=end, exog=exog_forecast).rename('SARIMAX(1,1,1) Predictions')"
   ]
  },
  {
   "cell_type": "code",
   "execution_count": 95,
   "metadata": {},
   "outputs": [
    {
     "data": {
      "text/plain": [
       "[<matplotlib.lines.Line2D at 0x2d6efe8ebb0>]"
      ]
     },
     "execution_count": 95,
     "metadata": {},
     "output_type": "execute_result"
    },
    {
     "data": {
      "image/png": "[encoded data removed]",
      "text/plain": [
       "<Figure size 432x288 with 1 Axes>"
      ]
     },
     "metadata": {
      "needs_background": "light"
     },
     "output_type": "display_data"
    }
   ],
   "source": [
    "plt.plot(predictions, color = 'blue')\n",
    "plt.plot(df['CPRAVG'][start:end], color = 'red')"
   ]
  },
  {
   "cell_type": "code",
   "execution_count": 81,
   "metadata": {},
   "outputs": [
    {
     "data": {
      "text/plain": [
       "2009-03-26 20:30:00    0.517527\n",
       "2009-03-26 20:40:00    0.517548\n",
       "2009-03-26 20:50:00    0.517538\n",
       "2009-03-26 21:00:00    0.517546\n",
       "2009-03-26 21:10:00    0.517569\n",
       "                         ...   \n",
       "2009-03-28 13:20:00    0.517913\n",
       "2009-03-28 13:30:00    0.517851\n",
       "2009-03-28 13:40:00    0.517796\n",
       "2009-03-28 13:50:00    0.517754\n",
       "2009-03-28 14:00:00    0.517690\n",
       "Freq: 10T, Name: SARIMAX(1,1,1) Predictions, Length: 250, dtype: float64"
      ]
     },
     "execution_count": 81,
     "metadata": {},
     "output_type": "execute_result"
    }
   ],
   "source": [
    "predictions"
   ]
  },
  {
   "cell_type": "code",
   "execution_count": null,
   "metadata": {},
   "outputs": [],
   "source": []
  }
 ],
 "metadata": {
  "kernelspec": {
   "display_name": "Python 3",
   "language": "python",
   "name": "python3"
  },
  "language_info": {
   "codemirror_mode": {
    "name": "ipython",
    "version": 3
   },
   "file_extension": ".py",
   "mimetype": "text/x-python",
   "name": "python",
   "nbconvert_exporter": "python",
   "pygments_lexer": "ipython3",
   "version": "3.8.5"
  }
 },
 "nbformat": 4,
 "nbformat_minor": 4
}
